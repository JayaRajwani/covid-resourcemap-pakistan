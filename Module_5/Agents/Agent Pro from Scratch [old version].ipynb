{
  "nbformat": 4,
  "nbformat_minor": 0,
  "metadata": {
    "colab": {
      "provenance": [],
      "include_colab_link": true
    },
    "kernelspec": {
      "name": "python3",
      "display_name": "Python 3"
    },
    "language_info": {
      "name": "python"
    }
  },
  "cells": [
    {
      "cell_type": "markdown",
      "metadata": {
        "id": "view-in-github",
        "colab_type": "text"
      },
      "source": [
        "<a href=\"https://colab.research.google.com/github/JayaRajwani/covid-resourcemap-pakistan/blob/master/Module_5/Agents/Agent%20Pro%20from%20Scratch%20%5Bold%20version%5D.ipynb\" target=\"_parent\"><img src=\"https://colab.research.google.com/assets/colab-badge.svg\" alt=\"Open In Colab\"/></a>"
      ]
    },
    {
      "cell_type": "markdown",
      "source": [],
      "metadata": {
        "id": "u59hzqOwg2ZB"
      }
    },
    {
      "cell_type": "code",
      "source": [
        "!pip install matplotlib fpdf qiskit python-pptx openai --quiet"
      ],
      "metadata": {
        "id": "EfKvogaRzcr2"
      },
      "execution_count": null,
      "outputs": []
    },
    {
      "cell_type": "code",
      "source": [
        "!pip install yfinance==0.2.54"
      ],
      "metadata": {
        "id": "pGl0fCMf5txZ"
      },
      "execution_count": null,
      "outputs": []
    },
    {
      "cell_type": "code",
      "source": [
        "from openai import OpenAI\n",
        "import os\n",
        "from google.colab import userdata\n",
        "import base64\n",
        "import requests\n",
        "from PIL import Image\n",
        "from io import BytesIO\n",
        "\n",
        "\n",
        "os.environ[\"OPENAI_API_KEY\"] = userdata.get('OPENAI_API_KEY')"
      ],
      "metadata": {
        "id": "JQgEVsExsTDo"
      },
      "execution_count": null,
      "outputs": []
    },
    {
      "cell_type": "code",
      "execution_count": null,
      "metadata": {
        "id": "d4hTdH58sKA3"
      },
      "outputs": [],
      "source": [
        "\n",
        "import subprocess\n",
        "import tempfile\n",
        "import re\n",
        "import importlib\n",
        "import sys\n",
        "\n",
        "class AgentPro:\n",
        "\n",
        "\n",
        "    def generate_code(self, prompt):\n",
        "        client = OpenAI()\n",
        "        response = client.chat.completions.create(\n",
        "        model=\"gpt-4o\",\n",
        "        messages=[\n",
        "          {\"role\": \"system\", \"content\": \"You are a Python code generator. Respond only with executable Python code, no explanations or comments except for required pip installations at the top.\"},\n",
        "          {\"role\": \"user\", \"content\": f\"Generate Python code to {prompt}. If you need to use any external libraries, include a comment at the top of the code listing the required pip installations.\"}\n",
        "        ],\n",
        "        max_tokens=4000,\n",
        "        temperature=0.7,\n",
        "        top_p=1,\n",
        "        frequency_penalty=0,\n",
        "        presence_penalty=0\n",
        "        )\n",
        "        code = re.sub(r'^```python\\n|^```\\n|```$', '', response.choices[0].message.content, flags=re.MULTILINE)\n",
        "        code_lines = code.split('\\n')\n",
        "        while code_lines and not (code_lines[0].startswith('import') or code_lines[0].startswith('from') or code_lines[0].startswith('#')):\n",
        "            code_lines.pop(0)\n",
        "\n",
        "        return '\\n'.join(code_lines)\n",
        "\n",
        "        #return\n",
        "\n",
        "\n",
        "    def install_libraries(self, code):\n",
        "        libraries = re.findall(r'#\\s*pip install\\s+([\\w-]+)', code)\n",
        "        if libraries:\n",
        "            print(\"Installing required libraries...\")\n",
        "            for lib in libraries:\n",
        "                try:\n",
        "                    importlib.import_module(lib.replace('-', '_'))\n",
        "                    print(f\"{lib} is already installed.\")\n",
        "                except ImportError:\n",
        "                    print(f\"Installing {lib}...\")\n",
        "                    subprocess.check_call([sys.executable, \"-m\", \"pip\", \"install\", lib])\n",
        "            print(\"Libraries installed successfully.\")\n",
        "\n",
        "\n",
        "    def execute_code(self, code):\n",
        "        with tempfile.NamedTemporaryFile(mode='w', suffix='.py', delete=False) as temp_file:\n",
        "            temp_file.write(code)\n",
        "            temp_file_path = temp_file.name\n",
        "\n",
        "        try:\n",
        "            result = subprocess.run(['python', temp_file_path], capture_output=True, text=True, timeout=30)\n",
        "            output = result.stdout\n",
        "            error = result.stderr\n",
        "        except subprocess.TimeoutExpired:\n",
        "            output = \"\"\n",
        "            error = \"Execution timed out after 30 seconds.\"\n",
        "        finally:\n",
        "            os.unlink(temp_file_path)\n",
        "\n",
        "        return output, error\n",
        "\n",
        "    def run(self, prompt):\n",
        "        print(f\"Generating code for: {prompt}\")\n",
        "        code = self.generate_code(prompt)\n",
        "        print(\"Generated code:\")\n",
        "        print(code)\n",
        "        print(\"\\nExecuting code...\")\n",
        "        output, error = self.execute_code(code)\n",
        "\n",
        "        if output:\n",
        "            print(\"Output:\")\n",
        "            print(output)\n",
        "        if error:\n",
        "            print(\"Error:\")\n",
        "            print(error)"
      ]
    },
    {
      "cell_type": "code",
      "source": [
        "# Example usage\n",
        "if __name__ == \"__main__\":\n",
        "    agent = AgentPro()\n",
        "    agent.run(\"make a presentation called pitch.pptx for a cafe on mars\")"
      ],
      "metadata": {
        "id": "TRLbM5artNk8"
      },
      "execution_count": null,
      "outputs": []
    },
    {
      "cell_type": "code",
      "source": [
        "import yfinance as yf\n",
        "import matplotlib.pyplot as plt\n",
        "\n",
        "# Download stock data for TSLA and NVDA\n",
        "tsla = yf.Ticker(\"TSLA\")\n",
        "nvda = yf.Ticker(\"NVDA\")\n",
        "\n",
        "# Get historical market data\n",
        "tsla_hist = tsla.history(period=\"1y\")\n",
        "nvda_hist = nvda.history(period=\"1y\")\n",
        "\n",
        "# Plot the data\n",
        "plt.figure(figsize=(14, 7))\n",
        "plt.plot(tsla_hist.index, tsla_hist['Close'], label='TSLA', color='blue')\n",
        "plt.plot(nvda_hist.index, nvda_hist['Close'], label='NVDA', color='green')\n",
        "\n",
        "# Add title and labels\n",
        "plt.title('TSLA vs NVDA Stock Price (1 Year)')\n",
        "plt.xlabel('Date')\n",
        "plt.ylabel('Closing Price (USD)')\n",
        "plt.legend()\n",
        "\n",
        "# Show the plot\n",
        "plt.show()"
      ],
      "metadata": {
        "id": "Dyodw6yLFmXQ"
      },
      "execution_count": null,
      "outputs": []
    },
    {
      "cell_type": "code",
      "source": [],
      "metadata": {
        "id": "-3QugqShXJ38"
      },
      "execution_count": null,
      "outputs": []
    }
  ]
}